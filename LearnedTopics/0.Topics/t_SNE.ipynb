{
  "nbformat": 4,
  "nbformat_minor": 0,
  "metadata": {
    "colab": {
      "name": "t-SNE.ipynb",
      "version": "0.3.2",
      "provenance": [],
      "collapsed_sections": []
    },
    "kernelspec": {
      "name": "python3",
      "display_name": "Python 3"
    }
  },
  "cells": [
    {
      "cell_type": "markdown",
      "metadata": {
        "id": "XQJ7sQ1PXdxb",
        "colab_type": "text"
      },
      "source": [
        "#t-SNE\n",
        "\n",
        "\n",
        "\n",
        "* Projecting higher dimensional data into lower dimensions\n",
        "* This is not a linear projection, rather uses the *local relationship* between variables to create a low-dimensional mapping. \n",
        "* it creates a probability distribution using a distribution (Gaussian) to connect the points in high-dimensional space.\n",
        "* t-distribution is used to recreatre the probability in low-dimensional space. (To reduce the crowding problem (Points tending to crowd together when projected in lower dimensional spaces))\n",
        "\n",
        "\n",
        "A better explaination can be found here: \n",
        "* https://mlexplained.com/2018/09/14/paper-dissected-visualizing-data-using-t-sne-explained/ "
      ]
    },
    {
      "cell_type": "code",
      "metadata": {
        "id": "nccafdXxW9HY",
        "colab_type": "code",
        "colab": {}
      },
      "source": [
        ""
      ],
      "execution_count": 0,
      "outputs": []
    }
  ]
}